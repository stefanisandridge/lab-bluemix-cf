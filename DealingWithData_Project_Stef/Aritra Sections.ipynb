{
  "nbformat": 4,
  "nbformat_minor": 0,
  "metadata": {
    "colab": {
      "name": "DealingWithData-Project.ipynb",
      "provenance": [],
      "collapsed_sections": [],
      "include_colab_link": true
    },
    "kernelspec": {
      "name": "python3",
      "display_name": "Python 3"
    },
    "language_info": {
      "name": "python"
    }
  },
  "cells": [
    {
      "cell_type": "markdown",
      "metadata": {
        "id": "view-in-github",
        "colab_type": "text"
      },
      "source": [
        "<a href=\"https://colab.research.google.com/github/stefanisandridge/lab-bluemix-cf/blob/master/DealingWithData_Project_Stef/Aritra%20Sections.ipynb\" target=\"_parent\"><img src=\"https://colab.research.google.com/assets/colab-badge.svg\" alt=\"Open In Colab\"/></a>"
      ]
    },
    {
      "cell_type": "code",
      "metadata": {
        "id": "yabuPW1EpAYX",
        "colab": {
          "base_uri": "https://localhost:8080/"
        },
        "outputId": "24990101-436a-44e9-e26d-1d2f25a18b29"
      },
      "source": [
        "!curl \"https://data.cityofnewyork.us/api/views/3q43-55fe/rows.csv?accessType=DOWNLOAD\" -o rat_sightings.csv"
      ],
      "execution_count": null,
      "outputs": [
        {
          "output_type": "stream",
          "text": [
            "  % Total    % Received % Xferd  Average Speed   Time    Time     Time  Current\n",
            "                                 Dload  Upload   Total   Spent    Left  Speed\n",
            "100 68.0M    0 68.0M    0     0  2276k      0 --:--:--  0:00:30 --:--:-- 2921k\n"
          ],
          "name": "stdout"
        }
      ]
    },
    {
      "cell_type": "code",
      "metadata": {
        "colab": {
          "base_uri": "https://localhost:8080/"
        },
        "id": "4VH25K-ks-4L",
        "outputId": "8e665930-1dd5-4d5e-92a3-dd3c5ee1f5f4"
      },
      "source": [
        "!sudo pip3 install  -U -q geopandas pygeos PyMySQL sqlalchemy sql_magic"
      ],
      "execution_count": null,
      "outputs": [
        {
          "output_type": "stream",
          "text": [
            "\u001b[K     |████████████████████████████████| 1.0MB 5.1MB/s \n",
            "\u001b[K     |████████████████████████████████| 2.0MB 17.1MB/s \n",
            "\u001b[K     |████████████████████████████████| 51kB 5.9MB/s \n",
            "\u001b[K     |████████████████████████████████| 6.6MB 35.8MB/s \n",
            "\u001b[K     |████████████████████████████████| 15.4MB 177kB/s \n",
            "\u001b[?25h"
          ],
          "name": "stdout"
        }
      ]
    },
    {
      "cell_type": "code",
      "metadata": {
        "id": "A3jLJQhns3zW"
      },
      "source": [
        "%matplotlib inline\n",
        "%config InlineBackend.figure_format = 'retina'\n",
        "\n",
        "import pandas as pd\n",
        "from sqlalchemy import create_engine\n",
        "import geopandas as gpd\n",
        "import seaborn as sns\n",
        "import matplotlib as plt\n",
        "import matplotlib.pyplot as plt"
      ],
      "execution_count": null,
      "outputs": []
    },
    {
      "cell_type": "code",
      "metadata": {
        "colab": {
          "base_uri": "https://localhost:8080/"
        },
        "id": "-AbqsQ_Et8jc",
        "outputId": "85c29e06-fbe5-4467-9d05-56c34fbf3b8a"
      },
      "source": [
        "rat_sightings = pd.read_csv(\"rat_sightings.csv\", encoding=\"utf_8\", dtype=\"unicode\",parse_dates=True, infer_datetime_format=True, low_memory=False)\n",
        "rat_sightings[\"Created Date\"] = pd.to_datetime(rat_sightings[\"Created Date\"])\n",
        "rat_sightings[\"Closed Date\"] = pd.to_datetime(rat_sightings[\"Closed Date\"])"
      ],
      "execution_count": null,
      "outputs": [
        {
          "output_type": "execute_result",
          "data": {
            "text/plain": [
              "Unique Key                        object\n",
              "Created Date                      object\n",
              "Closed Date                       object\n",
              "Agency                            object\n",
              "Agency Name                       object\n",
              "Complaint Type                    object\n",
              "Descriptor                        object\n",
              "Location Type                     object\n",
              "Incident Zip                      object\n",
              "Incident Address                  object\n",
              "Street Name                       object\n",
              "Cross Street 1                    object\n",
              "Cross Street 2                    object\n",
              "Intersection Street 1             object\n",
              "Intersection Street 2             object\n",
              "Address Type                      object\n",
              "City                              object\n",
              "Landmark                          object\n",
              "Facility Type                     object\n",
              "Status                            object\n",
              "Due Date                          object\n",
              "Resolution Action Updated Date    object\n",
              "Community Board                   object\n",
              "Borough                           object\n",
              "X Coordinate (State Plane)        object\n",
              "Y Coordinate (State Plane)        object\n",
              "Park Facility Name                object\n",
              "Park Borough                      object\n",
              "Vehicle Type                      object\n",
              "Taxi Company Borough              object\n",
              "Taxi Pick Up Location             object\n",
              "Bridge Highway Name               object\n",
              "Bridge Highway Direction          object\n",
              "Road Ramp                         object\n",
              "Bridge Highway Segment            object\n",
              "Latitude                          object\n",
              "Longitude                         object\n",
              "Location                          object\n",
              "dtype: object"
            ]
          },
          "metadata": {
            "tags": []
          },
          "execution_count": 22
        }
      ]
    },
    {
      "cell_type": "code",
      "metadata": {
        "colab": {
          "base_uri": "https://localhost:8080/"
        },
        "id": "-ljDUwxmxdIf",
        "outputId": "2fa5657a-a947-4f17-9b92-d41655bcddac"
      },
      "source": [
        "rat_sightings.dtypes"
      ],
      "execution_count": null,
      "outputs": [
        {
          "output_type": "execute_result",
          "data": {
            "text/plain": [
              "Unique Key                                object\n",
              "Created Date                      datetime64[ns]\n",
              "Closed Date                       datetime64[ns]\n",
              "Agency                                    object\n",
              "Agency Name                               object\n",
              "Complaint Type                            object\n",
              "Descriptor                                object\n",
              "Location Type                             object\n",
              "Incident Zip                              object\n",
              "Incident Address                          object\n",
              "Street Name                               object\n",
              "Cross Street 1                            object\n",
              "Cross Street 2                            object\n",
              "Intersection Street 1                     object\n",
              "Intersection Street 2                     object\n",
              "Address Type                              object\n",
              "City                                      object\n",
              "Landmark                                  object\n",
              "Facility Type                             object\n",
              "Status                                    object\n",
              "Due Date                                  object\n",
              "Resolution Action Updated Date            object\n",
              "Community Board                           object\n",
              "Borough                                   object\n",
              "X Coordinate (State Plane)                object\n",
              "Y Coordinate (State Plane)                object\n",
              "Park Facility Name                        object\n",
              "Park Borough                              object\n",
              "Vehicle Type                              object\n",
              "Taxi Company Borough                      object\n",
              "Taxi Pick Up Location                     object\n",
              "Bridge Highway Name                       object\n",
              "Bridge Highway Direction                  object\n",
              "Road Ramp                                 object\n",
              "Bridge Highway Segment                    object\n",
              "Latitude                                  object\n",
              "Longitude                                 object\n",
              "Location                                  object\n",
              "dtype: object"
            ]
          },
          "metadata": {
            "tags": []
          },
          "execution_count": 24
        }
      ]
    },
    {
      "cell_type": "code",
      "metadata": {
        "id": "lW7ETpZ6xoh5"
      },
      "source": [
        ""
      ],
      "execution_count": null,
      "outputs": []
    }
  ]
}